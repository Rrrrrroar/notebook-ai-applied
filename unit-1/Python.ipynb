{
 "cells": [
  {
   "cell_type": "markdown",
   "id": "7ecec3ab-dc42-4c39-b8c3-e0bf631dd739",
   "metadata": {},
   "source": [
    "# Python"
   ]
  },
  {
   "cell_type": "markdown",
   "id": "0859cefc-a717-4dbc-b036-66fb2f7acdad",
   "metadata": {},
   "source": [
    "## Tipos de variables"
   ]
  },
  {
   "cell_type": "markdown",
   "id": "af17b94d-7566-4c02-b1c3-37d5c4c6d8e2",
   "metadata": {
    "tags": []
   },
   "source": [
    "### Intergers"
   ]
  },
  {
   "cell_type": "code",
   "execution_count": 21,
   "id": "07d79cc7-aea4-41f8-b1e2-3fa2205a17b4",
   "metadata": {
    "tags": []
   },
   "outputs": [],
   "source": [
    "entero = 23"
   ]
  },
  {
   "cell_type": "code",
   "execution_count": 22,
   "id": "bc19768f-aa76-430e-8fab-fd32433f12e4",
   "metadata": {
    "tags": []
   },
   "outputs": [
    {
     "name": "stdout",
     "output_type": "stream",
     "text": [
      "23\n"
     ]
    }
   ],
   "source": [
    "print(entero)"
   ]
  },
  {
   "cell_type": "markdown",
   "id": "52651022-de70-431b-8cb5-2361738fdb78",
   "metadata": {},
   "source": [
    "### Float"
   ]
  },
  {
   "cell_type": "code",
   "execution_count": 23,
   "id": "6e8f7bca-60f8-407a-81ca-ec43f80589bf",
   "metadata": {
    "tags": []
   },
   "outputs": [],
   "source": [
    "var = 12."
   ]
  },
  {
   "cell_type": "code",
   "execution_count": 24,
   "id": "9f5cbdf3-4e4d-425b-9d04-6ff26ad5cb14",
   "metadata": {
    "tags": []
   },
   "outputs": [
    {
     "name": "stdout",
     "output_type": "stream",
     "text": [
      "12.0\n"
     ]
    }
   ],
   "source": [
    "print(var)"
   ]
  },
  {
   "cell_type": "markdown",
   "id": "cdc3020a-0941-4c43-bd4f-17847fc2d752",
   "metadata": {},
   "source": [
    "### Strings"
   ]
  },
  {
   "cell_type": "code",
   "execution_count": 25,
   "id": "95b70829-9ba2-4cbe-be95-b2eb53821c6e",
   "metadata": {
    "tags": []
   },
   "outputs": [],
   "source": [
    "text = \"hello world\"\n",
    "alpha_text = \"8\""
   ]
  },
  {
   "cell_type": "code",
   "execution_count": 26,
   "id": "8528151d-80c4-4e73-a073-c3af124fb6bc",
   "metadata": {
    "tags": []
   },
   "outputs": [
    {
     "name": "stdout",
     "output_type": "stream",
     "text": [
      "hello world\n"
     ]
    }
   ],
   "source": [
    "print(text)"
   ]
  },
  {
   "cell_type": "code",
   "execution_count": 27,
   "id": "b76747c4-13ed-4194-896c-6be96501c21d",
   "metadata": {
    "tags": []
   },
   "outputs": [
    {
     "name": "stdout",
     "output_type": "stream",
     "text": [
      "8\n"
     ]
    }
   ],
   "source": [
    "print(alpha_text)"
   ]
  },
  {
   "cell_type": "markdown",
   "id": "1a1b0d95-0d02-414d-a6ee-46657d0bb26e",
   "metadata": {},
   "source": [
    "### Booleans"
   ]
  },
  {
   "cell_type": "code",
   "execution_count": 28,
   "id": "c8400b92-2583-4dc6-9548-10891c719b5e",
   "metadata": {
    "tags": []
   },
   "outputs": [],
   "source": [
    "boolean = True"
   ]
  },
  {
   "cell_type": "code",
   "execution_count": 29,
   "id": "95473d4f-436d-4e04-9e56-f9aebf1093a3",
   "metadata": {
    "tags": []
   },
   "outputs": [
    {
     "name": "stdout",
     "output_type": "stream",
     "text": [
      "True\n"
     ]
    }
   ],
   "source": [
    "print(boolean)"
   ]
  },
  {
   "cell_type": "markdown",
   "id": "2bc605f1-be27-440d-aa30-e5eaefa540fa",
   "metadata": {},
   "source": [
    "## Datos estructurados"
   ]
  },
  {
   "cell_type": "markdown",
   "id": "31d6655d-035e-479e-9472-a9d10ff9d843",
   "metadata": {},
   "source": [
    "### Listas"
   ]
  },
  {
   "cell_type": "code",
   "execution_count": 33,
   "id": "94f740a2-9c8c-4a8f-9be1-42245d36b91e",
   "metadata": {
    "tags": []
   },
   "outputs": [],
   "source": [
    "mix = [\"Calle de las Moquetas\", 9, \"ático\", \"28029\", \"Madrid\"]"
   ]
  },
  {
   "cell_type": "code",
   "execution_count": 34,
   "id": "b2dcfe5d-cab1-4c41-a6cc-f4945a0f18f9",
   "metadata": {
    "tags": []
   },
   "outputs": [
    {
     "name": "stdout",
     "output_type": "stream",
     "text": [
      "['Calle de las Moquetas', 9, 'ático', '28029', 'Madrid']\n"
     ]
    }
   ],
   "source": [
    "print(mix)"
   ]
  },
  {
   "cell_type": "markdown",
   "id": "471f3e28-7180-4011-8abf-ff5dcf05e10a",
   "metadata": {},
   "source": [
    "### Dictionary"
   ]
  },
  {
   "cell_type": "code",
   "execution_count": 40,
   "id": "9905a13c-1bbf-4d51-90a8-c2dfd1cc4a1b",
   "metadata": {
    "tags": []
   },
   "outputs": [],
   "source": [
    "# Diccionario con los datos de una película\n",
    "dct = {\"title\": \"Eternal Sunshine of the Spotless Mind\", \"year\": 2004, \"genre\": [\"Drama\", \"Sci-fi\"]}"
   ]
  },
  {
   "cell_type": "code",
   "execution_count": 38,
   "id": "8d5867ab-076b-42e4-9fed-6996ae4fcd5b",
   "metadata": {
    "tags": []
   },
   "outputs": [
    {
     "name": "stdout",
     "output_type": "stream",
     "text": [
      "{'title': 'Eternal Sunshine of the Spotless Mind', 'year': 2004, 'genre': ['Drama', 'Sci-fi']}\n"
     ]
    }
   ],
   "source": [
    "print(dct)"
   ]
  },
  {
   "cell_type": "markdown",
   "id": "c19c7a1d-e81d-472d-8630-8519363630d7",
   "metadata": {},
   "source": [
    "## Declare variables"
   ]
  },
  {
   "cell_type": "code",
   "execution_count": 41,
   "id": "e438098a-55da-4609-b6c8-6a49e198bdea",
   "metadata": {
    "tags": []
   },
   "outputs": [],
   "source": [
    "cat = \"Garfield\"\n",
    "song, duration = \"Vincent\", 3.3"
   ]
  },
  {
   "cell_type": "code",
   "execution_count": 44,
   "id": "5bb63e72-993b-4b4e-93fb-23edb2c3b752",
   "metadata": {
    "tags": []
   },
   "outputs": [
    {
     "name": "stdout",
     "output_type": "stream",
     "text": [
      "Garfield\n",
      "Vincent\n",
      "3.3\n"
     ]
    }
   ],
   "source": [
    "print(cat)\n",
    "print(song)\n",
    "print(duration)"
   ]
  },
  {
   "cell_type": "code",
   "execution_count": 46,
   "id": "7e59d75b-59e6-482a-81c1-39d45edd8264",
   "metadata": {
    "tags": []
   },
   "outputs": [
    {
     "name": "stdin",
     "output_type": "stream",
     "text": [
      "Enter your email:  rocio.arnaiz.illescas@gmail.com\n"
     ]
    }
   ],
   "source": [
    "email = input(\"Enter your email: \")"
   ]
  },
  {
   "cell_type": "code",
   "execution_count": 48,
   "id": "ac88f5eb-3b9f-4277-b970-0829c99bd75e",
   "metadata": {
    "tags": []
   },
   "outputs": [
    {
     "name": "stdout",
     "output_type": "stream",
     "text": [
      "rocio.arnaiz.illescas@gmail.com\n"
     ]
    }
   ],
   "source": [
    "print(email)"
   ]
  },
  {
   "cell_type": "markdown",
   "id": "b34614c0-c586-4c8a-b07b-970f3c8bb22d",
   "metadata": {},
   "source": [
    "## Print"
   ]
  },
  {
   "cell_type": "code",
   "execution_count": 50,
   "id": "9880f093-31c9-4e01-81ee-15d51beb06fe",
   "metadata": {
    "tags": []
   },
   "outputs": [
    {
     "name": "stdout",
     "output_type": "stream",
     "text": [
      "hello world\n"
     ]
    }
   ],
   "source": [
    "print(\"hello world\")"
   ]
  },
  {
   "cell_type": "code",
   "execution_count": 53,
   "id": "f117a2c2-c6c6-4a4c-b3c8-0930f960d1b2",
   "metadata": {
    "tags": []
   },
   "outputs": [
    {
     "name": "stdout",
     "output_type": "stream",
     "text": [
      "Eli 3\n"
     ]
    }
   ],
   "source": [
    "# in line \n",
    "dog, age = \"Eli\", 3\n",
    "print(dog, age)"
   ]
  },
  {
   "cell_type": "code",
   "execution_count": 56,
   "id": "c811c048-c3eb-4de1-8b0d-21150bb318cc",
   "metadata": {
    "tags": []
   },
   "outputs": [
    {
     "name": "stdin",
     "output_type": "stream",
     "text": [
      "Enter your name:  Ro\n"
     ]
    },
    {
     "name": "stdout",
     "output_type": "stream",
     "text": [
      "Hello my name is: Ro.\n"
     ]
    }
   ],
   "source": [
    "# declare variable username\n",
    "username = input(\"Enter your name: \")\n",
    "\n",
    "# concat print\n",
    "print(\"Hello my name is: \" + username + \".\")"
   ]
  },
  {
   "cell_type": "code",
   "execution_count": 60,
   "id": "8461d058-a9af-4032-b091-874794ab70f0",
   "metadata": {
    "tags": []
   },
   "outputs": [
    {
     "name": "stdout",
     "output_type": "stream",
     "text": [
      "hello my name is Eli and I am 3 years old.\n"
     ]
    }
   ],
   "source": [
    "# String literals\n",
    "print(f\"hello my name is {dog} and I am {age} years old.\")"
   ]
  },
  {
   "cell_type": "markdown",
   "id": "237300e3-5d99-48a3-9acb-e3bb3c980ac6",
   "metadata": {},
   "source": [
    "## Type"
   ]
  },
  {
   "cell_type": "code",
   "execution_count": 62,
   "id": "43abb81c-50fe-4735-9fa6-08305b280627",
   "metadata": {
    "tags": []
   },
   "outputs": [],
   "source": [
    "boolean = True\n",
    "real_boolean = \"true\""
   ]
  },
  {
   "cell_type": "code",
   "execution_count": 68,
   "id": "575ca38b-cd84-4a96-9938-8c6a2feb05cd",
   "metadata": {
    "tags": []
   },
   "outputs": [
    {
     "name": "stdout",
     "output_type": "stream",
     "text": [
      "<class 'bool'>\n",
      "<class 'str'>\n"
     ]
    }
   ],
   "source": [
    "print(type(boolean))\n",
    "print(type(real_boolean))"
   ]
  },
  {
   "cell_type": "markdown",
   "id": "cb629f7d-21d3-4cd4-aaaf-5d9cb75eddd7",
   "metadata": {},
   "source": [
    "## Operators"
   ]
  },
  {
   "cell_type": "markdown",
   "id": "f1a5dceb-9435-48e0-9383-36a933c403ac",
   "metadata": {},
   "source": [
    "### Numeric operators"
   ]
  },
  {
   "cell_type": "code",
   "execution_count": 79,
   "id": "5c99efce-1c30-44fc-a8d3-530a040dc492",
   "metadata": {
    "tags": []
   },
   "outputs": [
    {
     "name": "stdout",
     "output_type": "stream",
     "text": [
      "4 6.0\n",
      "7.0\n",
      "2\n"
     ]
    }
   ],
   "source": [
    "# Math\n",
    "suma = 1+3\n",
    "división = 12/2\n",
    "print(suma, división)\n",
    "\n",
    "# Exponent\n",
    "print(49**0.5)\n",
    "\n",
    "#Reminder (resto)\n",
    "print(12%5)"
   ]
  },
  {
   "cell_type": "code",
   "execution_count": 84,
   "id": "7ba53e4d-7bd7-48db-b9a3-d1f6b72e9651",
   "metadata": {
    "tags": []
   },
   "outputs": [
    {
     "name": "stdout",
     "output_type": "stream",
     "text": [
      "18.3\n",
      "4\n",
      "58.3\n"
     ]
    }
   ],
   "source": [
    "numeros = [4, 10, 8, 18, 18.3]\n",
    "\n",
    "print(max(numeros))\n",
    "print(min(numeros))\n",
    "print(sum(numeros))"
   ]
  },
  {
   "cell_type": "code",
   "execution_count": 87,
   "id": "08c74d33-cb77-4a61-8df8-96cc7fd34eb3",
   "metadata": {
    "tags": []
   },
   "outputs": [
    {
     "name": "stdout",
     "output_type": "stream",
     "text": [
      "2.3333333333333335\n",
      "2.33\n"
     ]
    }
   ],
   "source": [
    "decimal = 7/3\n",
    "print(decimal)\n",
    "print(round(decimal, 2))"
   ]
  },
  {
   "cell_type": "markdown",
   "id": "79470365-b107-4086-89de-e6892821f095",
   "metadata": {},
   "source": [
    "### String operators"
   ]
  },
  {
   "cell_type": "code",
   "execution_count": 100,
   "id": "50d29786-4f1e-448a-9f00-5d6875d62d86",
   "metadata": {
    "tags": []
   },
   "outputs": [
    {
     "name": "stdout",
     "output_type": "stream",
     "text": [
      "3\n",
      "<class 'int'> <class 'float'>\n"
     ]
    }
   ],
   "source": [
    "# Interger to string\n",
    "num_1, num_2 = 3, 4.8\n",
    "print(num_1)\n",
    "print(type(num_1), type(num_2))"
   ]
  },
  {
   "cell_type": "code",
   "execution_count": 101,
   "id": "0f94d38c-6989-4a2d-a819-26c22b2a6717",
   "metadata": {
    "tags": []
   },
   "outputs": [
    {
     "name": "stdout",
     "output_type": "stream",
     "text": [
      "3\n",
      "<class 'str'>\n"
     ]
    }
   ],
   "source": [
    "# Convertir números en string\n",
    "num_1 = str(num_1)\n",
    "print(num_1)\n",
    "print(type(num_1))"
   ]
  },
  {
   "cell_type": "code",
   "execution_count": 105,
   "id": "bdd6cb9e-bf6e-44ff-8a5d-6fe7914a51f4",
   "metadata": {
    "tags": []
   },
   "outputs": [
    {
     "data": {
      "text/plain": [
       "12"
      ]
     },
     "execution_count": 105,
     "metadata": {},
     "output_type": "execute_result"
    }
   ],
   "source": [
    "# String length\n",
    "var = \"Chookity pok\"\n",
    "len(var)"
   ]
  },
  {
   "cell_type": "code",
   "execution_count": 112,
   "id": "7d2ec228-be12-4786-be58-1cf3c67f2e99",
   "metadata": {
    "tags": []
   },
   "outputs": [
    {
     "name": "stdout",
     "output_type": "stream",
     "text": [
      "The symbol is: \"\n"
     ]
    }
   ],
   "source": [
    "# Escape characters\n",
    "message = \"The symbol is: \\\"\"\n",
    "print(message)"
   ]
  },
  {
   "cell_type": "code",
   "execution_count": 117,
   "id": "c54b1970-6a80-4e7d-827a-74975bf0f61d",
   "metadata": {
    "tags": []
   },
   "outputs": [
    {
     "name": "stdout",
     "output_type": "stream",
     "text": [
      "Hello world\n",
      "HELLO WORLD\n",
      "hello world\n",
      "Hello World\n"
     ]
    }
   ],
   "source": [
    "# Upper, lower and title cases\n",
    "message = \"Hello world\"\n",
    "print(message)\n",
    "\n",
    "# Upper\n",
    "message_upper = message.upper()\n",
    "print(message_upper)\n",
    "\n",
    "# Lower\n",
    "message_lower = message.lower()\n",
    "print(message_lower)\n",
    "\n",
    "# Title\n",
    "message_title = message.title()\n",
    "print(message_title)"
   ]
  },
  {
   "cell_type": "code",
   "execution_count": 123,
   "id": "dbf46b71-e273-4a36-adbe-0514bfe7a322",
   "metadata": {
    "tags": []
   },
   "outputs": [
    {
     "name": "stdout",
     "output_type": "stream",
     "text": [
      "this is a string\n",
      "['t', 'h', 'i', 's', ' ', 'i', 's', ' ', 'a', ' ', 's', 't', 'r', 'i', 'n', 'g']\n",
      "['this', 'is', 'a', 'string']\n",
      "['thi', ' i', ' a ', 'tring']\n"
     ]
    }
   ],
   "source": [
    "# String to list\n",
    "message = \"this is a string\"\n",
    "message_letters = list(message)\n",
    "\n",
    "# Por defecto split corta por los espacios\n",
    "message_words = message.split()\n",
    "message_splitted = message.split(\"s\")\n",
    "print(message)\n",
    "print(message_letters)\n",
    "print(message_words)\n",
    "print(message_splitted)"
   ]
  },
  {
   "cell_type": "code",
   "execution_count": 128,
   "id": "8d542916-7d7e-41f6-b83c-199fe7e6a762",
   "metadata": {
    "tags": []
   },
   "outputs": [
    {
     "name": "stdout",
     "output_type": "stream",
     "text": [
      "['melocotón', 'nectarina', 'fresa']\n",
      "melocotón nectarina fresa\n"
     ]
    }
   ],
   "source": [
    "# List to string\n",
    "fruits = [\"melocotón\", \"nectarina\", \"fresa\"]\n",
    "print(fruits)\n",
    "\n",
    "# Dentro de las comillas introduzco el símbolo de separación de la lista\n",
    "fruits_joined = \" \".join(fruits)\n",
    "print(fruits_joined)"
   ]
  },
  {
   "cell_type": "code",
   "execution_count": 138,
   "id": "f87a0ea1-3887-4efd-8292-c057e8c9401a",
   "metadata": {
    "tags": []
   },
   "outputs": [
    {
     "name": "stdout",
     "output_type": "stream",
     "text": [
      "name: Ro\n",
      "age: 27\n",
      "name: Ro\n",
      "age: 27\n"
     ]
    }
   ],
   "source": [
    "# New line and tabulator\n",
    "multi_line = \"name: Ro\\nage: 27\"\n",
    "print(multi_line)\n",
    "\n",
    "# Multiline string\n",
    "multi_line_string = \"\"\"name: Ro\n",
    "age: 27\"\"\"\n",
    "\n",
    "print(multi_line_string)"
   ]
  },
  {
   "cell_type": "code",
   "execution_count": 146,
   "id": "34440cbf-8adf-484e-85d5-c24f4160769c",
   "metadata": {
    "tags": []
   },
   "outputs": [
    {
     "name": "stdin",
     "output_type": "stream",
     "text": [
      "Introduce un caracter:  is\n"
     ]
    },
    {
     "name": "stdout",
     "output_type": "stream",
     "text": [
      "True\n"
     ]
    }
   ],
   "source": [
    "# Check substring\n",
    "var = \"My DNI is: 53812079Z\"\n",
    "\n",
    "# Aquí abajo\n",
    "letra = input(\"Introduce un caracter: \")\n",
    "\n",
    "# Code\n",
    "check = letra in var\n",
    "print(check)"
   ]
  },
  {
   "cell_type": "code",
   "execution_count": 153,
   "id": "1222371c-73dc-4edb-9b2f-9f947cc5fd53",
   "metadata": {
    "tags": []
   },
   "outputs": [
    {
     "name": "stdout",
     "output_type": "stream",
     "text": [
      "word: hello\n",
      "word_5: hellohellohellohellohello\n"
     ]
    }
   ],
   "source": [
    "# Multistring\n",
    "word = \"hello\"\n",
    "word_5 = word*5\n",
    "\n",
    "# Print\n",
    "message = f\"word: {word}\\nword_5: {word_5}\"\n",
    "print(message)"
   ]
  },
  {
   "cell_type": "code",
   "execution_count": 158,
   "id": "cafe98e5-7163-466f-a432-356585ff8ada",
   "metadata": {
    "tags": []
   },
   "outputs": [
    {
     "name": "stdout",
     "output_type": "stream",
     "text": [
      "thiz iz a ztring\n",
      "this is a string\n"
     ]
    }
   ],
   "source": [
    "# Replace string\n",
    "message = \"thiz iz a ztring\"\n",
    "print(message)\n",
    "\n",
    "# Renombro la nueva variable con el código usado\n",
    "message = message.replace(\"z\", \"s\")\n",
    "print(message)"
   ]
  },
  {
   "cell_type": "markdown",
   "id": "e7aa1f91-fa37-496e-aa11-e778b4e350dc",
   "metadata": {},
   "source": [
    "### List operators"
   ]
  },
  {
   "cell_type": "code",
   "execution_count": 186,
   "id": "8c0fd3be-3bce-420c-9b9a-1be57243dec2",
   "metadata": {
    "tags": []
   },
   "outputs": [],
   "source": [
    "# List of planets\n",
    "planets = [\"Mercury\", \"Venus\", \"Earth\", \"Mars\", \"Jupiter\", \"Saturn\", \"Uranus\", \"Neptune\"]"
   ]
  },
  {
   "cell_type": "code",
   "execution_count": 162,
   "id": "884a95de-8cf8-4b08-abab-39599eed35f8",
   "metadata": {
    "tags": []
   },
   "outputs": [
    {
     "name": "stdout",
     "output_type": "stream",
     "text": [
      "Earth\n"
     ]
    }
   ],
   "source": [
    "# Sacar elemento de una lista (de alguna forma empieza en 0)\n",
    "planet = planets[2]\n",
    "print(planet)"
   ]
  },
  {
   "cell_type": "code",
   "execution_count": 164,
   "id": "f0688a58-45d4-4196-aa42-9f2eca5785bb",
   "metadata": {
    "tags": []
   },
   "outputs": [
    {
     "name": "stdout",
     "output_type": "stream",
     "text": [
      "Uranus\n"
     ]
    }
   ],
   "source": [
    "# Sacar penúltimo elemento\n",
    "planet = planets[-2]\n",
    "print(planet)"
   ]
  },
  {
   "cell_type": "code",
   "execution_count": 187,
   "id": "9965b592-d2c7-493c-b70d-7b1fd693ce79",
   "metadata": {
    "tags": []
   },
   "outputs": [
    {
     "name": "stdout",
     "output_type": "stream",
     "text": [
      "['Mercury', 'Venus', 'Earth', 'Mars', 'Jupiter', 'Saturn', 'Uranus', 'Neptune', 'pluto']\n"
     ]
    }
   ],
   "source": [
    "# Añadir elementos a la lista\n",
    "new_planets = planets.copy()\n",
    "new_planets.append(\"pluto\")\n",
    "print(new_planets)"
   ]
  },
  {
   "cell_type": "code",
   "execution_count": 182,
   "id": "d47b4309-8148-4597-8ac1-ea4102882915",
   "metadata": {
    "tags": []
   },
   "outputs": [
    {
     "data": {
      "text/plain": [
       "['Earth', 'Mars', 'Jupiter']"
      ]
     },
     "execution_count": 182,
     "metadata": {},
     "output_type": "execute_result"
    }
   ],
   "source": [
    "# Slicing a list (el último no lo cuenta)\n",
    "planets[2:5]"
   ]
  },
  {
   "cell_type": "code",
   "execution_count": 189,
   "id": "66ccf80c-3015-4d08-9648-d024b5e18e35",
   "metadata": {
    "tags": []
   },
   "outputs": [
    {
     "data": {
      "text/plain": [
       "['Earth', 'Jupiter', 'Mars', 'Mercury', 'Neptune', 'Saturn', 'Uranus', 'Venus']"
      ]
     },
     "execution_count": 189,
     "metadata": {},
     "output_type": "execute_result"
    }
   ],
   "source": [
    "# Order list\n",
    "sorted(planets)"
   ]
  },
  {
   "cell_type": "code",
   "execution_count": 195,
   "id": "a0038e90-fad2-40cb-8535-2e1a26fe6b12",
   "metadata": {
    "tags": []
   },
   "outputs": [
    {
     "data": {
      "text/plain": [
       "[2, 4, 6, 8, 10, 12, 14, 16, 18]"
      ]
     },
     "execution_count": 195,
     "metadata": {},
     "output_type": "execute_result"
    }
   ],
   "source": [
    "# Range to list\n",
    "list(range(20))\n",
    "\n",
    "#Añadir un step para que salte\n",
    "list(range(2,20,2))"
   ]
  },
  {
   "cell_type": "code",
   "execution_count": 197,
   "id": "cf347674-7408-49d1-abf6-dd8c9c1cf48a",
   "metadata": {
    "tags": []
   },
   "outputs": [
    {
     "data": {
      "text/plain": [
       "1"
      ]
     },
     "execution_count": 197,
     "metadata": {},
     "output_type": "execute_result"
    }
   ],
   "source": [
    "# Count items\n",
    "planets.count(\"Earth\")"
   ]
  },
  {
   "cell_type": "markdown",
   "id": "97ba4565-bf45-4ce7-b985-f812ec6bce4d",
   "metadata": {},
   "source": [
    "### Diccionarios"
   ]
  },
  {
   "cell_type": "code",
   "execution_count": 198,
   "id": "8d6b4639-cc15-4c75-9f70-0e5325e97fcd",
   "metadata": {
    "tags": []
   },
   "outputs": [],
   "source": [
    "market_value = {\n",
    "    \"Apple\": 2345.67,\n",
    "    \"Microsoft\": 1765.89,\n",
    "    \"Amazon\": 3012.45,\n",
    "    \"Google\": 2789.34,\n",
    "    \"Facebook\": 1890.56\n",
    "}\n"
   ]
  },
  {
   "cell_type": "code",
   "execution_count": 200,
   "id": "940c99f6-f1b6-4a43-a2fc-b5b4d0cda4d2",
   "metadata": {
    "tags": []
   },
   "outputs": [
    {
     "name": "stdout",
     "output_type": "stream",
     "text": [
      "{'Apple': 2345.67, 'Microsoft': 1765.89, 'Amazon': 3012.45, 'Google': 2789.34, 'Facebook': 1890.56, 'Tesla': 1899.32}\n"
     ]
    }
   ],
   "source": [
    "# Add a key to dictionary\n",
    "market_value[\"Tesla\"] = 1899.32\n",
    "print(market_value)"
   ]
  },
  {
   "cell_type": "code",
   "execution_count": 202,
   "id": "8cc7e379-2a06-41fd-b5e0-fd4e4f4bf65c",
   "metadata": {
    "tags": []
   },
   "outputs": [
    {
     "name": "stdout",
     "output_type": "stream",
     "text": [
      "{'Apple': 2345.67, 'Microsoft': 1765.89, 'Amazon': 3012.45, 'Google': 2789.34, 'Facebook': 1890.56, 'Tesla': 1899.32, 'Netflix': 2156.0, 'Adobe': 1654.32}\n"
     ]
    }
   ],
   "source": [
    "# Add multiple keys to dictionary\n",
    "market_value.update({\"Netflix\": 2156., \"Adobe\": 1654.32})\n",
    "print(market_value)"
   ]
  },
  {
   "cell_type": "code",
   "execution_count": 204,
   "id": "5d81a749-b567-4d82-9dcd-fde78793acd1",
   "metadata": {
    "tags": []
   },
   "outputs": [
    {
     "name": "stdout",
     "output_type": "stream",
     "text": [
      "{'Apple': 1500.0, 'Microsoft': 1765.89, 'Amazon': 3012.45, 'Google': 2789.34, 'Facebook': 1890.56, 'Tesla': 1899.32, 'Netflix': 2156.0, 'Adobe': 1654.32}\n"
     ]
    }
   ],
   "source": [
    "# Overwrite a value\n",
    "market_value[\"Apple\"] = 1500.\n",
    "print(market_value)"
   ]
  },
  {
   "cell_type": "code",
   "execution_count": 206,
   "id": "051e7860-a183-42ab-8c24-9a34ef7eea86",
   "metadata": {
    "tags": []
   },
   "outputs": [
    {
     "data": {
      "text/plain": [
       "2789.34"
      ]
     },
     "execution_count": 206,
     "metadata": {},
     "output_type": "execute_result"
    }
   ],
   "source": [
    "# Extract a value\n",
    "market_value[\"Google\"]"
   ]
  },
  {
   "cell_type": "code",
   "execution_count": 208,
   "id": "03a7d7ac-b269-4d7b-bac7-28bb5af345ea",
   "metadata": {
    "tags": []
   },
   "outputs": [
    {
     "name": "stdout",
     "output_type": "stream",
     "text": [
      "Keys view: dict_keys(['Apple', 'Microsoft', 'Amazon', 'Google', 'Facebook', 'Tesla', 'Netflix', 'Adobe'])\n",
      "Values view: dict_values([1500.0, 1765.89, 3012.45, 2789.34, 1890.56, 1899.32, 2156.0, 1654.32])\n",
      "Items view: dict_items([('Apple', 1500.0), ('Microsoft', 1765.89), ('Amazon', 3012.45), ('Google', 2789.34), ('Facebook', 1890.56), ('Tesla', 1899.32), ('Netflix', 2156.0), ('Adobe', 1654.32)])\n"
     ]
    }
   ],
   "source": [
    "# Using .keys() to get a view of keys\n",
    "keys_view = market_value.keys()\n",
    "\n",
    "# Using .values() to get a view of values\n",
    "values_view = market_value.values()\n",
    "\n",
    "# Using .items() to get a view of (key, value) pairs\n",
    "items_view = market_value.items()\n",
    "\n",
    "# Print the views\n",
    "print(\"Keys view:\", keys_view)\n",
    "print(\"Values view:\", values_view)\n",
    "print(\"Items view:\", items_view)"
   ]
  },
  {
   "cell_type": "markdown",
   "id": "a7f24904-d47c-46e1-b6ef-0396c3be9005",
   "metadata": {},
   "source": [
    "### If, Else"
   ]
  },
  {
   "cell_type": "code",
   "execution_count": 212,
   "id": "9ab466e7-af2a-42c3-9270-a711151bf3ef",
   "metadata": {
    "tags": []
   },
   "outputs": [
    {
     "name": "stdout",
     "output_type": "stream",
     "text": [
      "The number is negative.\n"
     ]
    }
   ],
   "source": [
    "number = -50\n",
    "\n",
    "# Check the number and provide a corresponding message\n",
    "if number > 0:\n",
    "    print(\"The number is positive.\")\n",
    "elif number < 0:\n",
    "    print(\"The number is negative.\")\n",
    "else:\n",
    "    print(\"The number is zero.\")\n"
   ]
  },
  {
   "cell_type": "markdown",
   "id": "6c3d052d-7d24-4cf4-81ba-953605cbabc1",
   "metadata": {},
   "source": [
    "### Loops"
   ]
  },
  {
   "cell_type": "code",
   "execution_count": 221,
   "id": "4ff767ae-079c-4cf6-8743-75b53c03049a",
   "metadata": {
    "tags": []
   },
   "outputs": [
    {
     "name": "stdout",
     "output_type": "stream",
     "text": [
      "['MERCURY', 'VENUS', 'EARTH', 'MARS', 'JUPITER', 'SATURN', 'URANUS', 'NEPTUNE']\n"
     ]
    }
   ],
   "source": [
    "# For loop\n",
    "planets_upper = []\n",
    "for planet in planets:\n",
    "    planet_upper = planet.upper()\n",
    "    planets_upper.append(planet_upper)\n",
    "\n",
    "print(planets_upper)"
   ]
  }
 ],
 "metadata": {
  "kernelspec": {
   "display_name": "Python 3 (ipykernel)",
   "language": "python",
   "name": "python3"
  },
  "language_info": {
   "codemirror_mode": {
    "name": "ipython",
    "version": 3
   },
   "file_extension": ".py",
   "mimetype": "text/x-python",
   "name": "python",
   "nbconvert_exporter": "python",
   "pygments_lexer": "ipython3",
   "version": "3.11.4"
  }
 },
 "nbformat": 4,
 "nbformat_minor": 5
}
