{
 "cells": [
  {
   "cell_type": "markdown",
   "id": "7ecec3ab-dc42-4c39-b8c3-e0bf631dd739",
   "metadata": {},
   "source": [
    "# Python"
   ]
  },
  {
   "cell_type": "markdown",
   "id": "0859cefc-a717-4dbc-b036-66fb2f7acdad",
   "metadata": {},
   "source": [
    "## Tipos de variables"
   ]
  },
  {
   "cell_type": "markdown",
   "id": "af17b94d-7566-4c02-b1c3-37d5c4c6d8e2",
   "metadata": {
    "tags": []
   },
   "source": [
    "### Intergers"
   ]
  },
  {
   "cell_type": "code",
   "execution_count": 21,
   "id": "07d79cc7-aea4-41f8-b1e2-3fa2205a17b4",
   "metadata": {
    "tags": []
   },
   "outputs": [],
   "source": [
    "entero = 23"
   ]
  },
  {
   "cell_type": "code",
   "execution_count": 22,
   "id": "bc19768f-aa76-430e-8fab-fd32433f12e4",
   "metadata": {
    "tags": []
   },
   "outputs": [
    {
     "name": "stdout",
     "output_type": "stream",
     "text": [
      "23\n"
     ]
    }
   ],
   "source": [
    "print(entero)"
   ]
  },
  {
   "cell_type": "markdown",
   "id": "52651022-de70-431b-8cb5-2361738fdb78",
   "metadata": {},
   "source": [
    "### Float"
   ]
  },
  {
   "cell_type": "code",
   "execution_count": 23,
   "id": "6e8f7bca-60f8-407a-81ca-ec43f80589bf",
   "metadata": {
    "tags": []
   },
   "outputs": [],
   "source": [
    "var = 12."
   ]
  },
  {
   "cell_type": "code",
   "execution_count": 24,
   "id": "9f5cbdf3-4e4d-425b-9d04-6ff26ad5cb14",
   "metadata": {
    "tags": []
   },
   "outputs": [
    {
     "name": "stdout",
     "output_type": "stream",
     "text": [
      "12.0\n"
     ]
    }
   ],
   "source": [
    "print(var)"
   ]
  },
  {
   "cell_type": "markdown",
   "id": "cdc3020a-0941-4c43-bd4f-17847fc2d752",
   "metadata": {},
   "source": [
    "### Strings"
   ]
  },
  {
   "cell_type": "code",
   "execution_count": 25,
   "id": "95b70829-9ba2-4cbe-be95-b2eb53821c6e",
   "metadata": {
    "tags": []
   },
   "outputs": [],
   "source": [
    "text = \"hello world\"\n",
    "alpha_text = \"8\""
   ]
  },
  {
   "cell_type": "code",
   "execution_count": 26,
   "id": "8528151d-80c4-4e73-a073-c3af124fb6bc",
   "metadata": {
    "tags": []
   },
   "outputs": [
    {
     "name": "stdout",
     "output_type": "stream",
     "text": [
      "hello world\n"
     ]
    }
   ],
   "source": [
    "print(text)"
   ]
  },
  {
   "cell_type": "code",
   "execution_count": 27,
   "id": "b76747c4-13ed-4194-896c-6be96501c21d",
   "metadata": {
    "tags": []
   },
   "outputs": [
    {
     "name": "stdout",
     "output_type": "stream",
     "text": [
      "8\n"
     ]
    }
   ],
   "source": [
    "print(alpha_text)"
   ]
  },
  {
   "cell_type": "markdown",
   "id": "1a1b0d95-0d02-414d-a6ee-46657d0bb26e",
   "metadata": {},
   "source": [
    "### Booleans"
   ]
  },
  {
   "cell_type": "code",
   "execution_count": 28,
   "id": "c8400b92-2583-4dc6-9548-10891c719b5e",
   "metadata": {
    "tags": []
   },
   "outputs": [],
   "source": [
    "boolean = True"
   ]
  },
  {
   "cell_type": "code",
   "execution_count": 29,
   "id": "95473d4f-436d-4e04-9e56-f9aebf1093a3",
   "metadata": {
    "tags": []
   },
   "outputs": [
    {
     "name": "stdout",
     "output_type": "stream",
     "text": [
      "True\n"
     ]
    }
   ],
   "source": [
    "print(boolean)"
   ]
  },
  {
   "cell_type": "markdown",
   "id": "2bc605f1-be27-440d-aa30-e5eaefa540fa",
   "metadata": {},
   "source": [
    "## Datos estructurados"
   ]
  },
  {
   "cell_type": "markdown",
   "id": "31d6655d-035e-479e-9472-a9d10ff9d843",
   "metadata": {},
   "source": [
    "### Listas"
   ]
  },
  {
   "cell_type": "code",
   "execution_count": 33,
   "id": "94f740a2-9c8c-4a8f-9be1-42245d36b91e",
   "metadata": {
    "tags": []
   },
   "outputs": [],
   "source": [
    "mix = [\"Calle de las Moquetas\", 9, \"ático\", \"28029\", \"Madrid\"]"
   ]
  },
  {
   "cell_type": "code",
   "execution_count": 34,
   "id": "b2dcfe5d-cab1-4c41-a6cc-f4945a0f18f9",
   "metadata": {
    "tags": []
   },
   "outputs": [
    {
     "name": "stdout",
     "output_type": "stream",
     "text": [
      "['Calle de las Moquetas', 9, 'ático', '28029', 'Madrid']\n"
     ]
    }
   ],
   "source": [
    "print(mix)"
   ]
  },
  {
   "cell_type": "markdown",
   "id": "471f3e28-7180-4011-8abf-ff5dcf05e10a",
   "metadata": {},
   "source": [
    "### Dictionary"
   ]
  },
  {
   "cell_type": "code",
   "execution_count": 40,
   "id": "9905a13c-1bbf-4d51-90a8-c2dfd1cc4a1b",
   "metadata": {
    "tags": []
   },
   "outputs": [],
   "source": [
    "# Diccionario con los datos de una película\n",
    "dct = {\"title\": \"Eternal Sunshine of the Spotless Mind\", \"year\": 2004, \"genre\": [\"Drama\", \"Sci-fi\"]}"
   ]
  },
  {
   "cell_type": "code",
   "execution_count": 38,
   "id": "8d5867ab-076b-42e4-9fed-6996ae4fcd5b",
   "metadata": {
    "tags": []
   },
   "outputs": [
    {
     "name": "stdout",
     "output_type": "stream",
     "text": [
      "{'title': 'Eternal Sunshine of the Spotless Mind', 'year': 2004, 'genre': ['Drama', 'Sci-fi']}\n"
     ]
    }
   ],
   "source": [
    "print(dct)"
   ]
  },
  {
   "cell_type": "markdown",
   "id": "c19c7a1d-e81d-472d-8630-8519363630d7",
   "metadata": {},
   "source": [
    "## Declare variables"
   ]
  },
  {
   "cell_type": "code",
   "execution_count": 41,
   "id": "e438098a-55da-4609-b6c8-6a49e198bdea",
   "metadata": {
    "tags": []
   },
   "outputs": [],
   "source": [
    "cat = \"Garfield\"\n",
    "song, duration = \"Vincent\", 3.3"
   ]
  },
  {
   "cell_type": "code",
   "execution_count": 44,
   "id": "5bb63e72-993b-4b4e-93fb-23edb2c3b752",
   "metadata": {
    "tags": []
   },
   "outputs": [
    {
     "name": "stdout",
     "output_type": "stream",
     "text": [
      "Garfield\n",
      "Vincent\n",
      "3.3\n"
     ]
    }
   ],
   "source": [
    "print(cat)\n",
    "print(song)\n",
    "print(duration)"
   ]
  },
  {
   "cell_type": "code",
   "execution_count": 46,
   "id": "7e59d75b-59e6-482a-81c1-39d45edd8264",
   "metadata": {
    "tags": []
   },
   "outputs": [
    {
     "name": "stdin",
     "output_type": "stream",
     "text": [
      "Enter your email:  rocio.arnaiz.illescas@gmail.com\n"
     ]
    }
   ],
   "source": [
    "email = input(\"Enter your email: \")"
   ]
  },
  {
   "cell_type": "code",
   "execution_count": 48,
   "id": "ac88f5eb-3b9f-4277-b970-0829c99bd75e",
   "metadata": {
    "tags": []
   },
   "outputs": [
    {
     "name": "stdout",
     "output_type": "stream",
     "text": [
      "rocio.arnaiz.illescas@gmail.com\n"
     ]
    }
   ],
   "source": [
    "print(email)"
   ]
  },
  {
   "cell_type": "markdown",
   "id": "b34614c0-c586-4c8a-b07b-970f3c8bb22d",
   "metadata": {},
   "source": [
    "## Print"
   ]
  },
  {
   "cell_type": "code",
   "execution_count": 50,
   "id": "9880f093-31c9-4e01-81ee-15d51beb06fe",
   "metadata": {
    "tags": []
   },
   "outputs": [
    {
     "name": "stdout",
     "output_type": "stream",
     "text": [
      "hello world\n"
     ]
    }
   ],
   "source": [
    "print(\"hello world\")"
   ]
  },
  {
   "cell_type": "code",
   "execution_count": 53,
   "id": "f117a2c2-c6c6-4a4c-b3c8-0930f960d1b2",
   "metadata": {
    "tags": []
   },
   "outputs": [
    {
     "name": "stdout",
     "output_type": "stream",
     "text": [
      "Eli 3\n"
     ]
    }
   ],
   "source": [
    "# in line \n",
    "dog, age = \"Eli\", 3\n",
    "print(dog, age)"
   ]
  },
  {
   "cell_type": "code",
   "execution_count": 56,
   "id": "c811c048-c3eb-4de1-8b0d-21150bb318cc",
   "metadata": {
    "tags": []
   },
   "outputs": [
    {
     "name": "stdin",
     "output_type": "stream",
     "text": [
      "Enter your name:  Ro\n"
     ]
    },
    {
     "name": "stdout",
     "output_type": "stream",
     "text": [
      "Hello my name is: Ro.\n"
     ]
    }
   ],
   "source": [
    "# declare variable username\n",
    "username = input(\"Enter your name: \")\n",
    "\n",
    "# concat print\n",
    "print(\"Hello my name is: \" + username + \".\")"
   ]
  },
  {
   "cell_type": "code",
   "execution_count": 60,
   "id": "8461d058-a9af-4032-b091-874794ab70f0",
   "metadata": {
    "tags": []
   },
   "outputs": [
    {
     "name": "stdout",
     "output_type": "stream",
     "text": [
      "hello my name is Eli and I am 3 years old.\n"
     ]
    }
   ],
   "source": [
    "# String literals\n",
    "print(f\"hello my name is {dog} and I am {age} years old.\")"
   ]
  },
  {
   "cell_type": "markdown",
   "id": "237300e3-5d99-48a3-9acb-e3bb3c980ac6",
   "metadata": {},
   "source": [
    "## Type"
   ]
  },
  {
   "cell_type": "code",
   "execution_count": 62,
   "id": "43abb81c-50fe-4735-9fa6-08305b280627",
   "metadata": {
    "tags": []
   },
   "outputs": [],
   "source": [
    "boolean = True\n",
    "real_boolean = \"true\""
   ]
  },
  {
   "cell_type": "code",
   "execution_count": 68,
   "id": "575ca38b-cd84-4a96-9938-8c6a2feb05cd",
   "metadata": {
    "tags": []
   },
   "outputs": [
    {
     "name": "stdout",
     "output_type": "stream",
     "text": [
      "<class 'bool'>\n",
      "<class 'str'>\n"
     ]
    }
   ],
   "source": [
    "print(type(boolean))\n",
    "print(type(real_boolean))"
   ]
  },
  {
   "cell_type": "markdown",
   "id": "cb629f7d-21d3-4cd4-aaaf-5d9cb75eddd7",
   "metadata": {},
   "source": [
    "## Operators"
   ]
  },
  {
   "cell_type": "code",
   "execution_count": null,
   "id": "96ffedce-0a08-4cf7-9a3b-470851369434",
   "metadata": {},
   "outputs": [],
   "source": []
  }
 ],
 "metadata": {
  "kernelspec": {
   "display_name": "Python 3 (ipykernel)",
   "language": "python",
   "name": "python3"
  },
  "language_info": {
   "codemirror_mode": {
    "name": "ipython",
    "version": 3
   },
   "file_extension": ".py",
   "mimetype": "text/x-python",
   "name": "python",
   "nbconvert_exporter": "python",
   "pygments_lexer": "ipython3",
   "version": "3.11.4"
  }
 },
 "nbformat": 4,
 "nbformat_minor": 5
}
